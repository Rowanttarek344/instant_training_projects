{
 "cells": [
  {
   "cell_type": "code",
   "execution_count": 1,
   "id": "6a45e470",
   "metadata": {
    "_cell_guid": "b1076dfc-b9ad-4769-8c92-a6c4dae69d19",
    "_uuid": "8f2839f25d086af736a60e9eeb907d3b93b6e0e5",
    "execution": {
     "iopub.execute_input": "2024-04-27T22:02:55.291805Z",
     "iopub.status.busy": "2024-04-27T22:02:55.291353Z",
     "iopub.status.idle": "2024-04-27T22:02:56.276362Z",
     "shell.execute_reply": "2024-04-27T22:02:56.275110Z"
    },
    "papermill": {
     "duration": 0.995605,
     "end_time": "2024-04-27T22:02:56.279446",
     "exception": false,
     "start_time": "2024-04-27T22:02:55.283841",
     "status": "completed"
    },
    "tags": []
   },
   "outputs": [
    {
     "name": "stdout",
     "output_type": "stream",
     "text": [
      "/kaggle/input/movies-recommendation/netflix_titles.csv\n"
     ]
    }
   ],
   "source": [
    "# This Python 3 environment comes with many helpful analytics libraries installed\n",
    "# It is defined by the kaggle/python Docker image: https://github.com/kaggle/docker-python\n",
    "# For example, here's several helpful packages to load\n",
    "\n",
    "import numpy as np # linear algebra\n",
    "import pandas as pd # data processing, CSV file I/O (e.g. pd.read_csv)\n",
    "\n",
    "# Input data files are available in the read-only \"../input/\" directory\n",
    "# For example, running this (by clicking run or pressing Shift+Enter) will list all files under the input directory\n",
    "\n",
    "import os\n",
    "for dirname, _, filenames in os.walk('/kaggle/input'):\n",
    "    for filename in filenames:\n",
    "        print(os.path.join(dirname, filename))\n",
    "\n",
    "# You can write up to 20GB to the current directory (/kaggle/working/) that gets preserved as output when you create a version using \"Save & Run All\" \n",
    "# You can also write temporary files to /kaggle/temp/, but they won't be saved outside of the current session"
   ]
  },
  {
   "cell_type": "code",
   "execution_count": 2,
   "id": "93291b4b",
   "metadata": {
    "execution": {
     "iopub.execute_input": "2024-04-27T22:02:56.290183Z",
     "iopub.status.busy": "2024-04-27T22:02:56.289583Z",
     "iopub.status.idle": "2024-04-27T22:02:56.420890Z",
     "shell.execute_reply": "2024-04-27T22:02:56.419733Z"
    },
    "papermill": {
     "duration": 0.139302,
     "end_time": "2024-04-27T22:02:56.423382",
     "exception": false,
     "start_time": "2024-04-27T22:02:56.284080",
     "status": "completed"
    },
    "tags": []
   },
   "outputs": [
    {
     "data": {
      "text/html": [
       "<div>\n",
       "<style scoped>\n",
       "    .dataframe tbody tr th:only-of-type {\n",
       "        vertical-align: middle;\n",
       "    }\n",
       "\n",
       "    .dataframe tbody tr th {\n",
       "        vertical-align: top;\n",
       "    }\n",
       "\n",
       "    .dataframe thead th {\n",
       "        text-align: right;\n",
       "    }\n",
       "</style>\n",
       "<table border=\"1\" class=\"dataframe\">\n",
       "  <thead>\n",
       "    <tr style=\"text-align: right;\">\n",
       "      <th></th>\n",
       "      <th>show_id</th>\n",
       "      <th>type</th>\n",
       "      <th>title</th>\n",
       "      <th>director</th>\n",
       "      <th>cast</th>\n",
       "      <th>country</th>\n",
       "      <th>date_added</th>\n",
       "      <th>release_year</th>\n",
       "      <th>rating</th>\n",
       "      <th>duration</th>\n",
       "      <th>listed_in</th>\n",
       "      <th>description</th>\n",
       "    </tr>\n",
       "  </thead>\n",
       "  <tbody>\n",
       "    <tr>\n",
       "      <th>0</th>\n",
       "      <td>81145628</td>\n",
       "      <td>Movie</td>\n",
       "      <td>Norm of the North: King Sized Adventure</td>\n",
       "      <td>Richard Finn, Tim Maltby</td>\n",
       "      <td>Alan Marriott, Andrew Toth, Brian Dobson, Cole...</td>\n",
       "      <td>United States, India, South Korea, China</td>\n",
       "      <td>September 9, 2019</td>\n",
       "      <td>2019</td>\n",
       "      <td>TV-PG</td>\n",
       "      <td>90 min</td>\n",
       "      <td>Children &amp; Family Movies, Comedies</td>\n",
       "      <td>Before planning an awesome wedding for his gra...</td>\n",
       "    </tr>\n",
       "    <tr>\n",
       "      <th>1</th>\n",
       "      <td>80117401</td>\n",
       "      <td>Movie</td>\n",
       "      <td>Jandino: Whatever it Takes</td>\n",
       "      <td>NaN</td>\n",
       "      <td>Jandino Asporaat</td>\n",
       "      <td>United Kingdom</td>\n",
       "      <td>September 9, 2016</td>\n",
       "      <td>2016</td>\n",
       "      <td>TV-MA</td>\n",
       "      <td>94 min</td>\n",
       "      <td>Stand-Up Comedy</td>\n",
       "      <td>Jandino Asporaat riffs on the challenges of ra...</td>\n",
       "    </tr>\n",
       "    <tr>\n",
       "      <th>2</th>\n",
       "      <td>70234439</td>\n",
       "      <td>TV Show</td>\n",
       "      <td>Transformers Prime</td>\n",
       "      <td>NaN</td>\n",
       "      <td>Peter Cullen, Sumalee Montano, Frank Welker, J...</td>\n",
       "      <td>United States</td>\n",
       "      <td>September 8, 2018</td>\n",
       "      <td>2013</td>\n",
       "      <td>TV-Y7-FV</td>\n",
       "      <td>1 Season</td>\n",
       "      <td>Kids' TV</td>\n",
       "      <td>With the help of three human allies, the Autob...</td>\n",
       "    </tr>\n",
       "    <tr>\n",
       "      <th>3</th>\n",
       "      <td>80058654</td>\n",
       "      <td>TV Show</td>\n",
       "      <td>Transformers: Robots in Disguise</td>\n",
       "      <td>NaN</td>\n",
       "      <td>Will Friedle, Darren Criss, Constance Zimmer, ...</td>\n",
       "      <td>United States</td>\n",
       "      <td>September 8, 2018</td>\n",
       "      <td>2016</td>\n",
       "      <td>TV-Y7</td>\n",
       "      <td>1 Season</td>\n",
       "      <td>Kids' TV</td>\n",
       "      <td>When a prison ship crash unleashes hundreds of...</td>\n",
       "    </tr>\n",
       "    <tr>\n",
       "      <th>4</th>\n",
       "      <td>80125979</td>\n",
       "      <td>Movie</td>\n",
       "      <td>#realityhigh</td>\n",
       "      <td>Fernando Lebrija</td>\n",
       "      <td>Nesta Cooper, Kate Walsh, John Michael Higgins...</td>\n",
       "      <td>United States</td>\n",
       "      <td>September 8, 2017</td>\n",
       "      <td>2017</td>\n",
       "      <td>TV-14</td>\n",
       "      <td>99 min</td>\n",
       "      <td>Comedies</td>\n",
       "      <td>When nerdy high schooler Dani finally attracts...</td>\n",
       "    </tr>\n",
       "  </tbody>\n",
       "</table>\n",
       "</div>"
      ],
      "text/plain": [
       "    show_id     type                                    title  \\\n",
       "0  81145628    Movie  Norm of the North: King Sized Adventure   \n",
       "1  80117401    Movie               Jandino: Whatever it Takes   \n",
       "2  70234439  TV Show                       Transformers Prime   \n",
       "3  80058654  TV Show         Transformers: Robots in Disguise   \n",
       "4  80125979    Movie                             #realityhigh   \n",
       "\n",
       "                   director  \\\n",
       "0  Richard Finn, Tim Maltby   \n",
       "1                       NaN   \n",
       "2                       NaN   \n",
       "3                       NaN   \n",
       "4          Fernando Lebrija   \n",
       "\n",
       "                                                cast  \\\n",
       "0  Alan Marriott, Andrew Toth, Brian Dobson, Cole...   \n",
       "1                                   Jandino Asporaat   \n",
       "2  Peter Cullen, Sumalee Montano, Frank Welker, J...   \n",
       "3  Will Friedle, Darren Criss, Constance Zimmer, ...   \n",
       "4  Nesta Cooper, Kate Walsh, John Michael Higgins...   \n",
       "\n",
       "                                    country         date_added  release_year  \\\n",
       "0  United States, India, South Korea, China  September 9, 2019          2019   \n",
       "1                            United Kingdom  September 9, 2016          2016   \n",
       "2                             United States  September 8, 2018          2013   \n",
       "3                             United States  September 8, 2018          2016   \n",
       "4                             United States  September 8, 2017          2017   \n",
       "\n",
       "     rating  duration                           listed_in  \\\n",
       "0     TV-PG    90 min  Children & Family Movies, Comedies   \n",
       "1     TV-MA    94 min                     Stand-Up Comedy   \n",
       "2  TV-Y7-FV  1 Season                            Kids' TV   \n",
       "3     TV-Y7  1 Season                            Kids' TV   \n",
       "4     TV-14    99 min                            Comedies   \n",
       "\n",
       "                                         description  \n",
       "0  Before planning an awesome wedding for his gra...  \n",
       "1  Jandino Asporaat riffs on the challenges of ra...  \n",
       "2  With the help of three human allies, the Autob...  \n",
       "3  When a prison ship crash unleashes hundreds of...  \n",
       "4  When nerdy high schooler Dani finally attracts...  "
      ]
     },
     "execution_count": 2,
     "metadata": {},
     "output_type": "execute_result"
    }
   ],
   "source": [
    "data = pd.read_csv(\"/kaggle/input/movies-recommendation/netflix_titles.csv\")\n",
    "data.head()"
   ]
  },
  {
   "cell_type": "code",
   "execution_count": 3,
   "id": "7c2402e7",
   "metadata": {
    "execution": {
     "iopub.execute_input": "2024-04-27T22:02:56.434062Z",
     "iopub.status.busy": "2024-04-27T22:02:56.433641Z",
     "iopub.status.idle": "2024-04-27T22:02:56.455678Z",
     "shell.execute_reply": "2024-04-27T22:02:56.454748Z"
    },
    "papermill": {
     "duration": 0.030391,
     "end_time": "2024-04-27T22:02:56.458374",
     "exception": false,
     "start_time": "2024-04-27T22:02:56.427983",
     "status": "completed"
    },
    "tags": []
   },
   "outputs": [],
   "source": [
    "data.dropna(subset=['cast','title','description','listed_in'],inplace=True,axis=0)\n",
    "data = data.reset_index(drop=True)"
   ]
  },
  {
   "cell_type": "code",
   "execution_count": 4,
   "id": "ebc8fe7e",
   "metadata": {
    "execution": {
     "iopub.execute_input": "2024-04-27T22:02:56.469401Z",
     "iopub.status.busy": "2024-04-27T22:02:56.468986Z",
     "iopub.status.idle": "2024-04-27T22:02:56.603154Z",
     "shell.execute_reply": "2024-04-27T22:02:56.602101Z"
    },
    "papermill": {
     "duration": 0.142883,
     "end_time": "2024-04-27T22:02:56.605939",
     "exception": false,
     "start_time": "2024-04-27T22:02:56.463056",
     "status": "completed"
    },
    "tags": []
   },
   "outputs": [],
   "source": [
    "import re\n",
    "data['listed_in'] = [re.sub(r'[^\\w\\s]', '', t) for t in data['listed_in']]\n",
    "data['cast'] = [re.sub(',',' ',re.sub(' ','',t)) for t in data['cast']]\n",
    "data['description'] = [re.sub(r'[^\\w\\s]', '', t) for t in data['description']]\n",
    "data['title'] = [re.sub(r'[^\\w\\s]', '', t) for t in data['title']]"
   ]
  },
  {
   "cell_type": "code",
   "execution_count": 5,
   "id": "83e5ae8a",
   "metadata": {
    "execution": {
     "iopub.execute_input": "2024-04-27T22:02:56.616651Z",
     "iopub.status.busy": "2024-04-27T22:02:56.616295Z",
     "iopub.status.idle": "2024-04-27T22:02:56.646013Z",
     "shell.execute_reply": "2024-04-27T22:02:56.644904Z"
    },
    "papermill": {
     "duration": 0.038082,
     "end_time": "2024-04-27T22:02:56.648696",
     "exception": false,
     "start_time": "2024-04-27T22:02:56.610614",
     "status": "completed"
    },
    "tags": []
   },
   "outputs": [
    {
     "data": {
      "text/html": [
       "<div>\n",
       "<style scoped>\n",
       "    .dataframe tbody tr th:only-of-type {\n",
       "        vertical-align: middle;\n",
       "    }\n",
       "\n",
       "    .dataframe tbody tr th {\n",
       "        vertical-align: top;\n",
       "    }\n",
       "\n",
       "    .dataframe thead th {\n",
       "        text-align: right;\n",
       "    }\n",
       "</style>\n",
       "<table border=\"1\" class=\"dataframe\">\n",
       "  <thead>\n",
       "    <tr style=\"text-align: right;\">\n",
       "      <th></th>\n",
       "      <th>show_id</th>\n",
       "      <th>type</th>\n",
       "      <th>title</th>\n",
       "      <th>director</th>\n",
       "      <th>country</th>\n",
       "      <th>date_added</th>\n",
       "      <th>release_year</th>\n",
       "      <th>rating</th>\n",
       "      <th>duration</th>\n",
       "      <th>combined</th>\n",
       "    </tr>\n",
       "  </thead>\n",
       "  <tbody>\n",
       "    <tr>\n",
       "      <th>0</th>\n",
       "      <td>81145628</td>\n",
       "      <td>Movie</td>\n",
       "      <td>Norm of the North King Sized Adventure</td>\n",
       "      <td>Richard Finn, Tim Maltby</td>\n",
       "      <td>United States, India, South Korea, China</td>\n",
       "      <td>September 9, 2019</td>\n",
       "      <td>2019</td>\n",
       "      <td>TV-PG</td>\n",
       "      <td>90 min</td>\n",
       "      <td>Children  Family Movies Comedies  AlanMarriott...</td>\n",
       "    </tr>\n",
       "    <tr>\n",
       "      <th>1</th>\n",
       "      <td>80117401</td>\n",
       "      <td>Movie</td>\n",
       "      <td>Jandino Whatever it Takes</td>\n",
       "      <td>NaN</td>\n",
       "      <td>United Kingdom</td>\n",
       "      <td>September 9, 2016</td>\n",
       "      <td>2016</td>\n",
       "      <td>TV-MA</td>\n",
       "      <td>94 min</td>\n",
       "      <td>StandUp Comedy  JandinoAsporaat Jandino Whatev...</td>\n",
       "    </tr>\n",
       "    <tr>\n",
       "      <th>2</th>\n",
       "      <td>70234439</td>\n",
       "      <td>TV Show</td>\n",
       "      <td>Transformers Prime</td>\n",
       "      <td>NaN</td>\n",
       "      <td>United States</td>\n",
       "      <td>September 8, 2018</td>\n",
       "      <td>2013</td>\n",
       "      <td>TV-Y7-FV</td>\n",
       "      <td>1 Season</td>\n",
       "      <td>Kids TV  PeterCullen SumaleeMontano FrankWelke...</td>\n",
       "    </tr>\n",
       "    <tr>\n",
       "      <th>3</th>\n",
       "      <td>80058654</td>\n",
       "      <td>TV Show</td>\n",
       "      <td>Transformers Robots in Disguise</td>\n",
       "      <td>NaN</td>\n",
       "      <td>United States</td>\n",
       "      <td>September 8, 2018</td>\n",
       "      <td>2016</td>\n",
       "      <td>TV-Y7</td>\n",
       "      <td>1 Season</td>\n",
       "      <td>Kids TV  WillFriedle DarrenCriss ConstanceZimm...</td>\n",
       "    </tr>\n",
       "    <tr>\n",
       "      <th>4</th>\n",
       "      <td>80125979</td>\n",
       "      <td>Movie</td>\n",
       "      <td>realityhigh</td>\n",
       "      <td>Fernando Lebrija</td>\n",
       "      <td>United States</td>\n",
       "      <td>September 8, 2017</td>\n",
       "      <td>2017</td>\n",
       "      <td>TV-14</td>\n",
       "      <td>99 min</td>\n",
       "      <td>Comedies  NestaCooper KateWalsh JohnMichaelHig...</td>\n",
       "    </tr>\n",
       "  </tbody>\n",
       "</table>\n",
       "</div>"
      ],
      "text/plain": [
       "    show_id     type                                   title  \\\n",
       "0  81145628    Movie  Norm of the North King Sized Adventure   \n",
       "1  80117401    Movie               Jandino Whatever it Takes   \n",
       "2  70234439  TV Show                      Transformers Prime   \n",
       "3  80058654  TV Show         Transformers Robots in Disguise   \n",
       "4  80125979    Movie                             realityhigh   \n",
       "\n",
       "                   director                                   country  \\\n",
       "0  Richard Finn, Tim Maltby  United States, India, South Korea, China   \n",
       "1                       NaN                            United Kingdom   \n",
       "2                       NaN                             United States   \n",
       "3                       NaN                             United States   \n",
       "4          Fernando Lebrija                             United States   \n",
       "\n",
       "          date_added  release_year    rating  duration  \\\n",
       "0  September 9, 2019          2019     TV-PG    90 min   \n",
       "1  September 9, 2016          2016     TV-MA    94 min   \n",
       "2  September 8, 2018          2013  TV-Y7-FV  1 Season   \n",
       "3  September 8, 2018          2016     TV-Y7  1 Season   \n",
       "4  September 8, 2017          2017     TV-14    99 min   \n",
       "\n",
       "                                            combined  \n",
       "0  Children  Family Movies Comedies  AlanMarriott...  \n",
       "1  StandUp Comedy  JandinoAsporaat Jandino Whatev...  \n",
       "2  Kids TV  PeterCullen SumaleeMontano FrankWelke...  \n",
       "3  Kids TV  WillFriedle DarrenCriss ConstanceZimm...  \n",
       "4  Comedies  NestaCooper KateWalsh JohnMichaelHig...  "
      ]
     },
     "execution_count": 5,
     "metadata": {},
     "output_type": "execute_result"
    }
   ],
   "source": [
    "data[\"combined\"] = data['listed_in'] + '  ' + data['cast'] + ' ' + data['title'] + ' ' + data['description']\n",
    "data.drop(['listed_in','cast','description'],axis=1,inplace=True)\n",
    "data.head()\n"
   ]
  },
  {
   "cell_type": "code",
   "execution_count": 6,
   "id": "05e76722",
   "metadata": {
    "execution": {
     "iopub.execute_input": "2024-04-27T22:02:56.660724Z",
     "iopub.status.busy": "2024-04-27T22:02:56.659765Z",
     "iopub.status.idle": "2024-04-27T22:03:00.459540Z",
     "shell.execute_reply": "2024-04-27T22:03:00.458297Z"
    },
    "papermill": {
     "duration": 3.808734,
     "end_time": "2024-04-27T22:03:00.462495",
     "exception": false,
     "start_time": "2024-04-27T22:02:56.653761",
     "status": "completed"
    },
    "tags": []
   },
   "outputs": [],
   "source": [
    "from sklearn.feature_extraction.text import TfidfVectorizer\n",
    "# Capture similarity \n",
    "from sklearn.metrics.pairwise import linear_kernel\n",
    "# Content Similarity\n",
    "vectorizer = TfidfVectorizer()\n",
    "matrix = vectorizer.fit_transform(data[\"combined\"])\n",
    "cosine_similarities = linear_kernel(matrix,matrix)\n",
    "movie_title = data['title']\n",
    "indices = pd.Series(data.index, index=data['title'])"
   ]
  },
  {
   "cell_type": "code",
   "execution_count": 7,
   "id": "89951863",
   "metadata": {
    "execution": {
     "iopub.execute_input": "2024-04-27T22:03:00.476111Z",
     "iopub.status.busy": "2024-04-27T22:03:00.475616Z",
     "iopub.status.idle": "2024-04-27T22:03:00.484478Z",
     "shell.execute_reply": "2024-04-27T22:03:00.483255Z"
    },
    "papermill": {
     "duration": 0.018047,
     "end_time": "2024-04-27T22:03:00.486898",
     "exception": false,
     "start_time": "2024-04-27T22:03:00.468851",
     "status": "completed"
    },
    "tags": []
   },
   "outputs": [],
   "source": [
    "def content_recommender(title):\n",
    "    idx = indices[title]\n",
    "    sim_scores = list(enumerate(cosine_similarities[idx]))\n",
    "    sim_scores = sorted(sim_scores, key=lambda x: x[1], reverse=True)\n",
    "    sim_scores = sim_scores[1:31]\n",
    "    movie_indices = [i[0] for i in sim_scores]\n",
    "    return movie_title.iloc[movie_indices]"
   ]
  },
  {
   "cell_type": "code",
   "execution_count": 8,
   "id": "565cae4a",
   "metadata": {
    "execution": {
     "iopub.execute_input": "2024-04-27T22:03:00.498758Z",
     "iopub.status.busy": "2024-04-27T22:03:00.498330Z",
     "iopub.status.idle": "2024-04-27T22:03:00.504927Z",
     "shell.execute_reply": "2024-04-27T22:03:00.503780Z"
    },
    "papermill": {
     "duration": 0.015148,
     "end_time": "2024-04-27T22:03:00.507252",
     "exception": false,
     "start_time": "2024-04-27T22:03:00.492104",
     "status": "completed"
    },
    "tags": []
   },
   "outputs": [],
   "source": [
    "def content_recommender(title):\n",
    "    idx = indices[title]\n",
    "    sim_scores = list(enumerate(cosine_similarities[idx]))\n",
    "    sim_scores = sorted(sim_scores, key=lambda x: x[1], reverse=True)\n",
    "    sim_scores = sim_scores[1:31]\n",
    "    movie_indices = [i[0] for i in sim_scores]\n",
    "    return  movie_title.iloc[movie_indices]"
   ]
  },
  {
   "cell_type": "code",
   "execution_count": 9,
   "id": "5c8acb3f",
   "metadata": {
    "execution": {
     "iopub.execute_input": "2024-04-27T22:03:00.518717Z",
     "iopub.status.busy": "2024-04-27T22:03:00.518329Z",
     "iopub.status.idle": "2024-04-27T22:03:00.536277Z",
     "shell.execute_reply": "2024-04-27T22:03:00.535510Z"
    },
    "papermill": {
     "duration": 0.026167,
     "end_time": "2024-04-27T22:03:00.538389",
     "exception": false,
     "start_time": "2024-04-27T22:03:00.512222",
     "status": "completed"
    },
    "tags": []
   },
   "outputs": [
    {
     "data": {
      "text/plain": [
       "369                           Witches A Century of Murder\n",
       "1829                                           London Spy\n",
       "5068                                                Reign\n",
       "2612                                       My Hotter Half\n",
       "692       The Blue Planet A Natural History of the Oceans\n",
       "3915                          The Real Football Factories\n",
       "1753                                           Collateral\n",
       "5474                                             Lovesick\n",
       "4830                 Planet Earth The Complete Collection\n",
       "2724                                         Age Gap Love\n",
       "3979                                 Single Ladies Senior\n",
       "4829                         Natures Great Events Diaries\n",
       "3668                                       The Bomb Squad\n",
       "5496                          The Frankenstein Chronicles\n",
       "5060                                        Ripper Street\n",
       "4776                                               Africa\n",
       "1185    Oliver Stones Untold History of the United States\n",
       "4362                                           The A List\n",
       "2918                                              Dracula\n",
       "691                             Natures Great Events 2009\n",
       "2356                                           Life Story\n",
       "3949                                     Kurt Seyit  Sura\n",
       "5292                                            Dads Army\n",
       "4827                                                 Life\n",
       "2964                                        Frozen Planet\n",
       "2073                                        One More Time\n",
       "5047                                         Razia Sultan\n",
       "3118                                  Historia de un clan\n",
       "4139                                            Happy And\n",
       "5542                                              Flowers\n",
       "Name: title, dtype: object"
      ]
     },
     "execution_count": 9,
     "metadata": {},
     "output_type": "execute_result"
    }
   ],
   "source": [
    "content_recommender('The Crown')\n"
   ]
  }
 ],
 "metadata": {
  "kaggle": {
   "accelerator": "none",
   "dataSources": [
    {
     "datasetId": 4893847,
     "sourceId": 8248328,
     "sourceType": "datasetVersion"
    }
   ],
   "dockerImageVersionId": 30698,
   "isGpuEnabled": false,
   "isInternetEnabled": false,
   "language": "python",
   "sourceType": "notebook"
  },
  "kernelspec": {
   "display_name": "Python 3",
   "language": "python",
   "name": "python3"
  },
  "language_info": {
   "codemirror_mode": {
    "name": "ipython",
    "version": 3
   },
   "file_extension": ".py",
   "mimetype": "text/x-python",
   "name": "python",
   "nbconvert_exporter": "python",
   "pygments_lexer": "ipython3",
   "version": "3.10.13"
  },
  "papermill": {
   "default_parameters": {},
   "duration": 8.943807,
   "end_time": "2024-04-27T22:03:01.164657",
   "environment_variables": {},
   "exception": null,
   "input_path": "__notebook__.ipynb",
   "output_path": "__notebook__.ipynb",
   "parameters": {},
   "start_time": "2024-04-27T22:02:52.220850",
   "version": "2.5.0"
  }
 },
 "nbformat": 4,
 "nbformat_minor": 5
}
